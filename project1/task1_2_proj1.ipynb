{
 "cells": [
  {
   "cell_type": "code",
   "execution_count": 25,
   "metadata": {},
   "outputs": [],
   "source": [
    "#!/usr/bin/env python 3\n",
    "#task 1.2: plotting the data without the outliers\n",
    "__author__ = \"Akhilesh Vyas\"\n",
    "__email__ = \"vyas.akhilesh009@hotmail.com\"\n",
    "\n",
    "import whExample\n",
    "import numpy as np\n",
    "import matplotlib.pyplot as plt\n",
    "import matplotlib.mlab as mlab\n",
    "import matplotlib.patches as mpatches\n",
    "from scipy.stats import norm\n",
    "import math"
   ]
  },
  {
   "cell_type": "code",
   "execution_count": 26,
   "metadata": {},
   "outputs": [
    {
     "data": {
      "text/plain": [
       "array([ 186.,  170.,  167.,  173.,  186.,  180.,  173.,  168.,  174.,\n",
       "        170.,  186.,  175.,  172.,  162.,  174.,  178.,  178.,  174.,\n",
       "        168.,  160.,  167.,  174.,  175.,  162.])"
      ]
     },
     "execution_count": 26,
     "metadata": {},
     "output_type": "execute_result"
    }
   ],
   "source": [
    "#######################################################################\n",
    "# 1st alternative for reading multi-typed data from a text file\n",
    "#######################################################################\n",
    "# define type of data to be read and read data from file\n",
    "dt = np.dtype([('w', np.float), ('h', np.float), ('g', np.str_, 1)])\n",
    "data = np.loadtxt('whData.dat', dtype=dt, comments='#', delimiter=None)\n",
    "\n",
    "# read height, weight and gender information into 1D arrays\n",
    "ws = np.array([d[0] for d in data])\n",
    "hs = np.array([d[1] for d in data])\n",
    "gs = np.array([d[2] for d in data]) \n",
    "\n",
    "\n",
    "##########################################################################\n",
    "# 2nd alternative for reading multi-typed data from a text file\n",
    "##########################################################################\n",
    "# read data as 2D array of data type 'object'\n",
    "data = np.loadtxt('whData.dat',dtype=np.object,comments='#',delimiter=None)\n",
    "\n",
    "# read height and weight data into 2D array (i.e. into a matrix)\n",
    "X = data[:,0:2].astype(np.float)\n",
    "\n",
    "# read gender data into 1D array (i.e. into a vector)\n",
    "y = data[:,2]\n",
    "\n",
    "# let's transpose the data matrix \n",
    "X = X.T\n",
    "bodySize = X[1:2]\n",
    "bodySize = np.reshape(bodySize, (np.size(bodySize),))\n",
    "bodySize"
   ]
  },
  {
   "cell_type": "code",
   "execution_count": 27,
   "metadata": {},
   "outputs": [
    {
     "name": "stdout",
     "output_type": "stream",
     "text": [
      "BodySizeMean = 173.0, BodySizeStd = 6.98212002188\n"
     ]
    }
   ],
   "source": [
    "bodySizeMean = np.mean(bodySize)\n",
    "bodySizeStd = np.std(bodySize)\n",
    "print (\"BodySizeMean = %s, BodySizeStd = %s\" %(bodySizeMean, bodySizeStd))"
   ]
  },
  {
   "cell_type": "code",
   "execution_count": 44,
   "metadata": {},
   "outputs": [
    {
     "data": {
      "image/png": "[encoded data removed]",
      "text/plain": [
       "<matplotlib.figure.Figure at 0x114cd2da0>"
      ]
     },
     "metadata": {},
     "output_type": "display_data"
    }
   ],
   "source": [
    "x = np.linspace(bodySizeMean - 3.5*bodySizeStd, bodySizeMean + 3.5*bodySizeStd, 10000)\n",
    "plt.plot(x, mlab.normpdf(x, bodySizeMean, bodySizeStd), color='orange', label='normal')\n",
    "plt.plot(bodySize, np.zeros_like(bodySize), 'ro', color='blue')\n",
    "\n",
    "norm_patch = mpatches.Patch(color='orange', label='normal')\n",
    "data_patch = mpatches.Patch(color='blue', label='data')\n",
    "plt.legend(handles=[data_patch, norm_patch])\n",
    "plt.show()"
   ]
  },
  {
   "cell_type": "code",
   "execution_count": null,
   "metadata": {},
   "outputs": [],
   "source": []
  }
 ],
 "metadata": {
  "kernelspec": {
   "display_name": "Python 3",
   "language": "python",
   "name": "python3"
  },
  "language_info": {
   "codemirror_mode": {
    "name": "ipython",
    "version": 3
   },
   "file_extension": ".py",
   "mimetype": "text/x-python",
   "name": "python",
   "nbconvert_exporter": "python",
   "pygments_lexer": "ipython3",
   "version": "3.6.1"
  }
 },
 "nbformat": 4,
 "nbformat_minor": 2
}
