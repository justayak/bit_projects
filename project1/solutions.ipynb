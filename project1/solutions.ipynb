{
 "cells": [
  {
   "cell_type": "markdown",
   "metadata": {},
   "source": [
    "# Project 1\n",
    "\n",
    "## warm up\n",
    "\n",
    "### Task 1.1\n"
   ]
  },
  {
   "cell_type": "code",
   "execution_count": 1,
   "metadata": {},
   "outputs": [
    {
     "data": {
      "image/png": "[encoded data removed]",
      "text/plain": [
       "<matplotlib.figure.Figure at 0x7f579e4bbbe0>"
      ]
     },
     "metadata": {},
     "output_type": "display_data"
    },
    {
     "data": {
      "image/png": "[encoded data removed]",
      "text/plain": [
       "<matplotlib.figure.Figure at 0x7f579ac07c50>"
      ]
     },
     "metadata": {},
     "output_type": "display_data"
    }
   ],
   "source": [
    "%matplotlib inline\n",
    "import numpy as np\n",
    "import scipy as sp\n",
    "import matplotlib.pyplot as plt\n",
    "\n",
    "\n",
    "def plotData2D(X, title):\n",
    "    # create a figure and its axes\n",
    "    fig = plt.figure()\n",
    "    axs = fig.add_subplot(111)\n",
    "\n",
    "    # see what happens, if you uncomment the next line\n",
    "    # axs.set_aspect('equal')\n",
    "    \n",
    "    # plot the data \n",
    "    axs.plot(X[0,:], X[1,:], 'ro', label='data')\n",
    "\n",
    "    # set x and y limits of the plotting area\n",
    "    xmin = X[0,:].min()\n",
    "    xmax = X[0,:].max()\n",
    "    axs.set_xlim(xmin-10, xmax+10)\n",
    "    axs.set_ylim(-2, X[1,:].max()+10)\n",
    "\n",
    "    # set properties of the legend of the plot\n",
    "    leg = axs.legend(loc='upper left', shadow=True, fancybox=True, numpoints=1)\n",
    "    leg.get_frame().set_alpha(0.5)\n",
    "\n",
    "    plt.title(title)\n",
    "    plt.show()\n",
    "    # either show figure on screen or write it to disk\n",
    "    #if filename == None:\n",
    "    #    plt.title(title)\n",
    "    #    plt.show()\n",
    "    #else:\n",
    "    #    plt.savefig(filename, facecolor='w', edgecolor='w',\n",
    "    #                papertype=None, format='pdf', transparent=False,\n",
    "    #                bbox_inches='tight', pad_inches=0.1)\n",
    "    \n",
    "\n",
    "\n",
    "\n",
    "#######################################################################\n",
    "# 1st alternative for reading multi-typed data from a text file\n",
    "#######################################################################\n",
    "# define type of data to be read and read data from file\n",
    "dt = np.dtype([('w', np.float), ('h', np.float), ('g', np.str_, 1)])\n",
    "data = np.loadtxt('whData.dat', dtype=dt, comments='#', delimiter=None)\n",
    "\n",
    "# read height, weight and gender information into 1D arrays\n",
    "ws = np.array([d[0] for d in data])\n",
    "hs = np.array([d[1] for d in data])\n",
    "gs = np.array([d[2] for d in data]) \n",
    "\n",
    "\n",
    "##########################################################################\n",
    "# 2nd alternative for reading multi-typed data from a text file\n",
    "##########################################################################\n",
    "# read data as 2D array of data type 'object'\n",
    "data = np.loadtxt('whData.dat',dtype=np.object,comments='#',delimiter=None)\n",
    "\n",
    "# read height and weight data into 2D array (i.e. into a matrix)\n",
    "X = data[:,0:2].astype(np.float)\n",
    "\n",
    "# read gender data into 1D array (i.e. into a vector)\n",
    "y = data[:,2]\n",
    "\n",
    "# let's transpose the data matrix \n",
    "X = X.T\n",
    "\n",
    "# now, plot weight vs. height using the function defined above\n",
    "plotData2D(X, 'plotWH')\n",
    "\n",
    "# next, let's plot height vs. weight \n",
    "# first, copy information rows of X into 1D arrays\n",
    "w = np.copy(X[0,:])\n",
    "h = np.copy(X[1,:])\n",
    "\n",
    "# second, create new data matrix Z by stacking h and w\n",
    "Z = np.vstack((h,w))\n",
    "\n",
    "# third, plot this new representation of the data\n",
    "plotData2D(Z, 'plotHW')\n"
   ]
  },
  {
   "cell_type": "markdown",
   "metadata": {},
   "source": [
    "### Task 1.1\n",
    "\n",
    "Plot the data without the outliers (Plot only positive weight entries)"
   ]
  },
  {
   "cell_type": "code",
   "execution_count": 2,
   "metadata": {},
   "outputs": [
    {
     "data": {
      "image/png": "[encoded data removed]",
      "text/plain": [
       "<matplotlib.figure.Figure at 0x7f579ab37860>"
      ]
     },
     "metadata": {},
     "output_type": "display_data"
    }
   ],
   "source": [
    "data = np.loadtxt('whData.dat',\n",
    "                  dtype=np.object,\n",
    "                  comments='#',\n",
    "                  delimiter=None)\n",
    "\n",
    "W = data[:,0].astype('float32')\n",
    "H = data[:,1].astype('float32')\n",
    "G = data[:,2]\n",
    "\n",
    "w_mask = ((W > 0) * 1).nonzero()\n",
    "\n",
    "W = W[w_mask]\n",
    "H = H[w_mask]\n",
    "G = G[w_mask]\n",
    "\n",
    "male_mask = ((G == 'm') * 1).nonzero()\n",
    "W_m = W[male_mask]\n",
    "H_m = H[male_mask]\n",
    "\n",
    "female_mask = ((G == 'f') * 1).nonzero()\n",
    "W_f = W[female_mask]\n",
    "H_f = H[female_mask]\n",
    "\n",
    "fig = plt.figure(figsize=(8,4))\n",
    "ax = fig.add_subplot(111)\n",
    "ax.set_ylim([0, np.max(H)+100])\n",
    "ax.set_xlim([0, np.max(W)+10])\n",
    "ax.set_ylabel('Height')\n",
    "ax.set_xlabel('Weight')\n",
    "ax.scatter(W_m, H_m, color='blue', label='male')\n",
    "ax.scatter(W_f, H_f, color='red', label='female')\n",
    "plt.legend()\n",
    "plt.show()"
   ]
  },
  {
   "cell_type": "markdown",
   "metadata": {},
   "source": [
    "### task 1.2: fitting a Normal distribution to 1D data"
   ]
  },
  {
   "cell_type": "code",
   "execution_count": 3,
   "metadata": {},
   "outputs": [
    {
     "data": {
      "image/png": "[encoded data removed]",
      "text/plain": [
       "<matplotlib.figure.Figure at 0x7f57c02d0c50>"
      ]
     },
     "metadata": {},
     "output_type": "display_data"
    }
   ],
   "source": [
    "import matplotlib.mlab as mlab\n",
    "\n",
    "mu_f = np.mean(W_f)\n",
    "std_f = np.std(W_f)\n",
    "mu_m = np.mean(W_m)\n",
    "std_m = np.std(W_m)\n",
    "\n",
    "def plot_gaussian(ax, mu, sigma, color, label):\n",
    "    x = np.linspace(mu - 3*sigma, mu + 3*sigma, 100)\n",
    "    ax.plot(x,mlab.normpdf(x, mu, sigma), color=color, label=label)\n",
    "\n",
    "\n",
    "fig = plt.figure(figsize=(8,4))\n",
    "ax = fig.add_subplot(111)\n",
    "\n",
    "plot_gaussian(ax, mu_f, std_f, color='red', label='female')\n",
    "plot_gaussian(ax, mu_m, std_m, color='blue', label='male')\n",
    "plt.legend()\n",
    "plt.show()"
   ]
  },
  {
   "cell_type": "markdown",
   "metadata": {},
   "source": [
    "### task 1.3 fitting a Weibull distribution to 1D data\n",
    "\n",
    "**PDF** of Weibull distribution: $$\n",
    "f(x \\ \\big\\vert \\ \\kappa, \\alpha) = \\frac{\\kappa}{\\alpha} \\big(\n",
    "\\frac{x}{\\alpha}\n",
    "\\big)^{\\kappa - 1} exp\\biggr[ - \\big(\n",
    "\\frac{x}{\\alpha}\n",
    "\\big)^{\\kappa} \\biggr]\n",
    "$$\n",
    "\n",
    "with $\\alpha, \\kappa$ being shape and scale parameter\n",
    "\n",
    "**Log-likelihood** given a data sample $D=\\{ d_i\\}_{i=1}^N$:\n",
    "$$\n",
    "L(\\alpha, \\kappa \\ \\big\\vert \\ D) = N(\\log \\kappa - \\kappa \\log \\alpha)\n",
    "+ (\\kappa -1) \\sum_i \\log d_i - \\sum_i \\big(\\frac{d_i}{\\alpha}\\big)^{\\kappa}\n",
    "$$\n",
    "\n",
    "Deriving $L$ w.r.t. $\\alpha, \\kappa$ leads to a coupled system of partial differential equations for which there is no closed form solution. Therefore, resort to Newton's method for simultaneous equations and compute:\n",
    "$$\n",
    "\\begin{bmatrix}\n",
    "\\kappa^{new}\\\\ \n",
    "\\alpha^{new}\n",
    "\\end{bmatrix} = \\begin{bmatrix}\n",
    "\\kappa\\\\ \n",
    "\\alpha\n",
    "\\end{bmatrix} + \n",
    "\\begin{bmatrix}\n",
    "\\frac{\\partial^2L}{\\partial\\kappa^2} & \\frac{\\partial^2L}{\\partial\\kappa \\partial \\alpha} \\\\ \n",
    "\\frac{\\partial^2L}{\\partial\\kappa \\partial \\alpha} & \n",
    "\\frac{\\partial^2L}{\\partial\\alpha^2} \n",
    "\\end{bmatrix}^{-1}\n",
    "\\begin{bmatrix}\n",
    "-\\frac{\\partial L}{\\partial\\kappa} \\\\ \n",
    "-\\frac{\\partial L}{\\partial\\alpha}\n",
    "\\end{bmatrix}\n",
    "$$"
   ]
  },
  {
   "cell_type": "code",
   "execution_count": 4,
   "metadata": {},
   "outputs": [
    {
     "name": "stdout",
     "output_type": "stream",
     "text": [
      "4.89665648641 0.912724353412\n"
     ]
    },
    {
     "name": "stderr",
     "output_type": "stream",
     "text": [
      "/root/miniconda3/lib/python3.6/site-packages/ipykernel_launcher.py:14: RuntimeWarning: divide by zero encountered in power\n",
      "  \n"
     ]
    },
    {
     "data": {
      "image/png": "[encoded data removed]",
      "text/plain": [
       "<matplotlib.figure.Figure at 0x7f579ab52390>"
      ]
     },
     "metadata": {},
     "output_type": "display_data"
    }
   ],
   "source": [
    "from numpy import genfromtxt\n",
    "data = genfromtxt('myspace.csv', delimiter=',', dtype=np.object)\n",
    "h = data[:,1].astype('float32')\n",
    "mask = ((h > 0) * 1).nonzero()\n",
    "h = h[mask]\n",
    "\n",
    "n = h.shape[0]\n",
    "x = np.array(range(0, n))\n",
    "\n",
    "\n",
    "def f(x, k, a):\n",
    "    \"\"\" weibull pdf\n",
    "    \"\"\"\n",
    "    return (k/a) * ((x/a)**(k-1)) * np.exp(-(x/a)**k)\n",
    "\n",
    "def dLdk(a, k, D):\n",
    "    N = D.shape[0]\n",
    "    return N * (np.log(k) - k * np.log(a)) + \\\n",
    "        (k-1) * np.sum(np.log(D)) - np.sum((D/a)**a)\n",
    "\n",
    "def dLda(a, k, D):\n",
    "    N = D.shape[0]\n",
    "    return (k/a) * (np.sum((D/a)**k - N))\n",
    "\n",
    "def d2Ldk2(a, k, D):\n",
    "    N = D.shape[0]\n",
    "    return -(N/k**2) - np.sum((D/a)**k * np.log(D/a)**2)\n",
    "\n",
    "def d2Lda2(a, k, D):\n",
    "    N = D.shape[0]\n",
    "    return (k/(a**2)) * (k + 1) * np.sum((D/a)**k)\n",
    "\n",
    "def d2Ldkda(a, k, D):\n",
    "    N = D.shape[0]\n",
    "    return (1/a) * np.sum((D/a)**k) + (k/a) * \\\n",
    "        np.sum((D/a)**k * np.log(D/a) - N/a)\n",
    "\n",
    "    \n",
    "def step(a, k, D):\n",
    "    v = np.array([k, a])\n",
    "    u = np.array([-dLdk(a, k, D), -dLda(a, k, D)])\n",
    "    d2Ldkda_ = d2Ldkda(a,k,D)\n",
    "    J = np.linalg.inv(np.array([\n",
    "        [d2Ldk2(a,k,D), d2Ldkda_],\n",
    "        [d2Ldkda_, d2Lda2(a,k,D)]\n",
    "    ]))\n",
    "    \n",
    "    v_new = v + J @ u\n",
    "    return v_new[0], v_new[1]\n",
    "    \n",
    "\n",
    "a, k = 1, 5\n",
    "for i in range(1):\n",
    "    a, k = step(a, k, h)\n",
    "print(a, k)\n",
    "\n",
    "fig = plt.figure(figsize=(8,6))\n",
    "ax = fig.add_subplot(111)\n",
    "#ax.plot(x, h, label='Google data', color='black')\n",
    "\n",
    "ax.plot(x, f(x, k, a), label='weibull')\n",
    "\n",
    "\n",
    "plt.legend()\n",
    "plt.show()"
   ]
  },
  {
   "cell_type": "markdown",
   "metadata": {},
   "source": [
    "### 1.4"
   ]
  },
  {
   "cell_type": "markdown",
   "metadata": {},
   "source": [
    "The **$l_p$-norm** of $x$ is given by:\n",
    "$$\n",
    "\\vert|  x \\vert|_p = \\biggr(\n",
    "\\sum_{i=1}^m \\vert x_i \\vert^p \n",
    "\\biggr)^{\\frac{1}{p}}\n",
    "$$\n",
    "\n",
    "When $p=\\frac{1}{2}$, we get the following equation:\n",
    "$$\n",
    "\\big\\vert\\big\\vert \\begin{pmatrix}\n",
    "x\\\\ \n",
    "y\n",
    "\\end{pmatrix} \\big\\vert\\big\\vert_{\\frac{1}{2}} =\n",
    "\\big(\n",
    "\\sqrt{\\vert x\\vert} +  \\sqrt{\\vert y\\vert} \\\n",
    "\\big)^2\n",
    "$$\n",
    "\n",
    "A **norm** must fulfill the following properties:\n",
    "* $d(a \\pmb{v}) = \\vert a \\vert \\ d(\\pmb{v})$\n",
    "* $d(\\pmb{u}+\\pmb{v}) \\leq d(\\pmb{u}) + d(\\pmb{v})$\n",
    "* $d(\\pmb{v}) \\geq 0$\n",
    "* $d(\\pmb{v}) = 0 \\ \\ \\Rightarrow \\ \\pmb{v}=0$\n",
    "\n",
    "---\n",
    "show that lp-norm with $p=\\frac{1}{2}$ is not a norm by counter-example:\n",
    "\n",
    "Given two vectors $u = \\begin{bmatrix}\n",
    "a\\\\ \n",
    "b\n",
    "\\end{bmatrix}, \\ \\ v = \\begin{bmatrix}\n",
    "c\\\\ \n",
    "d\n",
    "\\end{bmatrix}$\n",
    "\n",
    "we can find a sample for $u, v$ such that the triangle inequality $d(\\pmb{u}+\\pmb{v}) \\leq d(\\pmb{u}) + d(\\pmb{v})$ does not hold anymore:\n",
    "\n",
    "Using the definition from above where $\n",
    "\\big\\vert\\big\\vert \\begin{pmatrix}\n",
    "x\\\\ \n",
    "y\n",
    "\\end{pmatrix} \\big\\vert\\big\\vert_{\\frac{1}{2}} =\n",
    "\\big(\n",
    "\\sqrt{\\vert x\\vert} +  \\sqrt{\\vert y\\vert} \\\n",
    "\\big)^2$ we get (assuming $a,b,c,d \\geq 0$ and assuming $\\mathscr{C}=a+b+c+d$):\n",
    "\n",
    "$$\n",
    "\\big(\n",
    "\\sqrt{a+c} +  \\sqrt{b+d} \\\n",
    "\\big)^2 \\leq \\big(\\sqrt{a} + \\sqrt{b}\\big)^2 +\n",
    "\\big(\\sqrt{c} + \\sqrt{d}\\big)^2\n",
    "$$\n",
    "\n",
    "$$\n",
    "\\equiv 2 \\sqrt{(a+c)(b+d)} + a + b + c + d \\leq\n",
    "\\big(2 \\sqrt{ab} + a + b \\big) + \\big(2 \\sqrt{cd} + c + d \\big)\n",
    "$$\n",
    "\n",
    "$$\n",
    "\\equiv 2 \\sqrt{(a+c)(b+d)} + a + b + c + d \\leq\n",
    "2\\sqrt{ab} + 2\\sqrt{cd} + a + b + c + d\n",
    "$$\n",
    "\n",
    "$$\n",
    "\\equiv\\sqrt{(a+c)(b+d)} + \\mathscr{C} \\leq \\sqrt{ab} + \\sqrt{cd} + \\mathscr{C}\n",
    "$$\n",
    "\n",
    "Now we can easily construct a counter-example: When $u = \\begin{bmatrix}\n",
    "1\\\\ \n",
    "0\n",
    "\\end{bmatrix}, \\ \\ v = \\begin{bmatrix}\n",
    "0\\\\ \n",
    "1\n",
    "\\end{bmatrix}$ we get:\n",
    "\n",
    "$$\n",
    "\\sqrt{1} + \\mathscr{C} \\leq \\sqrt{0} + \\mathscr{C}\n",
    "$$\n",
    "\n",
    "but as $\\mathscr{C}\\geq 0$ this cannot be true: QED"
   ]
  },
  {
   "cell_type": "code",
   "execution_count": 8,
   "metadata": {},
   "outputs": [
    {
     "data": {
      "image/png": "[encoded data removed]",
      "text/plain": [
       "<matplotlib.figure.Figure at 0x7f579aa8d438>"
      ]
     },
     "metadata": {},
     "output_type": "display_data"
    }
   ],
   "source": [
    "from scipy.linalg import norm\n",
    "\n",
    "\n",
    "def plot_lp_norm(ax, p=2):\n",
    "    \"\"\" this function helps warming up your home!\n",
    "    \"\"\"\n",
    "    x = np.linspace(-1, 1, 501)\n",
    "    y = np.linspace(-1, 1, 501)\n",
    "    points_x = []\n",
    "    points_y = []\n",
    "    for _x in x:\n",
    "        for _y in y:\n",
    "            vec = np.array([_x, _y])\n",
    "            v = norm(vec, p)\n",
    "            if v < 1.01 and v > 0.99:\n",
    "                points_x.append(_x)\n",
    "                points_y.append(_y)\n",
    "    ax.scatter(points_x, points_y, color='black', s=2)\n",
    "\n",
    "fig = plt.figure(figsize=(8, 8))\n",
    "ax = fig.add_subplot(111)\n",
    "plot_lp_norm(ax, 1/2)"
   ]
  }
 ],
 "metadata": {
  "kernelspec": {
   "display_name": "Python 3",
   "language": "python",
   "name": "python3"
  },
  "language_info": {
   "codemirror_mode": {
    "name": "ipython",
    "version": 3
   },
   "file_extension": ".py",
   "mimetype": "text/x-python",
   "name": "python",
   "nbconvert_exporter": "python",
   "pygments_lexer": "ipython3",
   "version": "3.6.2"
  }
 },
 "nbformat": 4,
 "nbformat_minor": 2
}
