{
 "cells": [
  {
   "cell_type": "markdown",
   "metadata": {},
   "source": [
    "# Project 1\n",
    "\n",
    "## warm up\n",
    "\n",
    "### Task 1.1\n"
   ]
  },
  {
   "cell_type": "code",
   "execution_count": 4,
   "metadata": {},
   "outputs": [
    {
     "data": {
      "image/png": "[encoded data removed]",
      "text/plain": [
       "<matplotlib.figure.Figure at 0x7f038e0179e8>"
      ]
     },
     "metadata": {},
     "output_type": "display_data"
    },
    {
     "data": {
      "image/png": "[encoded data removed]",
      "text/plain": [
       "<matplotlib.figure.Figure at 0x7f038dfc61d0>"
      ]
     },
     "metadata": {},
     "output_type": "display_data"
    }
   ],
   "source": [
    "%matplotlib inline\n",
    "import numpy as np\n",
    "import scipy as sp\n",
    "import matplotlib.pyplot as plt\n",
    "\n",
    "\n",
    "def plotData2D(X, filename=None):\n",
    "    # create a figure and its axes\n",
    "    fig = plt.figure()\n",
    "    axs = fig.add_subplot(111)\n",
    "\n",
    "    # see what happens, if you uncomment the next line\n",
    "    # axs.set_aspect('equal')\n",
    "    \n",
    "    # plot the data \n",
    "    axs.plot(X[0,:], X[1,:], 'ro', label='data')\n",
    "\n",
    "    # set x and y limits of the plotting area\n",
    "    xmin = X[0,:].min()\n",
    "    xmax = X[0,:].max()\n",
    "    axs.set_xlim(xmin-10, xmax+10)\n",
    "    axs.set_ylim(-2, X[1,:].max()+10)\n",
    "\n",
    "    # set properties of the legend of the plot\n",
    "    leg = axs.legend(loc='upper left', shadow=True, fancybox=True, numpoints=1)\n",
    "    leg.get_frame().set_alpha(0.5)\n",
    "\n",
    "    # either show figure on screen or write it to disk\n",
    "    if filename == None:\n",
    "        plt.show()\n",
    "    else:\n",
    "        plt.savefig(filename, facecolor='w', edgecolor='w',\n",
    "                    papertype=None, format='pdf', transparent=False,\n",
    "                    bbox_inches='tight', pad_inches=0.1)\n",
    "    #plt.show()\n",
    "    \n",
    "\n",
    "\n",
    "\n",
    "#######################################################################\n",
    "# 1st alternative for reading multi-typed data from a text file\n",
    "#######################################################################\n",
    "# define type of data to be read and read data from file\n",
    "dt = np.dtype([('w', np.float), ('h', np.float), ('g', np.str_, 1)])\n",
    "data = np.loadtxt('whData.dat', dtype=dt, comments='#', delimiter=None)\n",
    "\n",
    "# read height, weight and gender information into 1D arrays\n",
    "ws = np.array([d[0] for d in data])\n",
    "hs = np.array([d[1] for d in data])\n",
    "gs = np.array([d[2] for d in data]) \n",
    "\n",
    "\n",
    "##########################################################################\n",
    "# 2nd alternative for reading multi-typed data from a text file\n",
    "##########################################################################\n",
    "# read data as 2D array of data type 'object'\n",
    "data = np.loadtxt('whData.dat',dtype=np.object,comments='#',delimiter=None)\n",
    "\n",
    "# read height and weight data into 2D array (i.e. into a matrix)\n",
    "X = data[:,0:2].astype(np.float)\n",
    "\n",
    "# read gender data into 1D array (i.e. into a vector)\n",
    "y = data[:,2]\n",
    "\n",
    "# let's transpose the data matrix \n",
    "X = X.T\n",
    "\n",
    "# now, plot weight vs. height using the function defined above\n",
    "plotData2D(X)\n",
    "\n",
    "# next, let's plot height vs. weight \n",
    "# first, copy information rows of X into 1D arrays\n",
    "w = np.copy(X[0,:])\n",
    "h = np.copy(X[1,:])\n",
    "\n",
    "# second, create new data matrix Z by stacking h and w\n",
    "Z = np.vstack((h,w))\n",
    "\n",
    "# third, plot this new representation of the data\n",
    "plotData2D(Z)\n"
   ]
  }
 ],
 "metadata": {
  "kernelspec": {
   "display_name": "Python 3",
   "language": "python",
   "name": "python3"
  },
  "language_info": {
   "codemirror_mode": {
    "name": "ipython",
    "version": 3
   },
   "file_extension": ".py",
   "mimetype": "text/x-python",
   "name": "python",
   "nbconvert_exporter": "python",
   "pygments_lexer": "ipython3",
   "version": "3.6.2"
  }
 },
 "nbformat": 4,
 "nbformat_minor": 2
}
