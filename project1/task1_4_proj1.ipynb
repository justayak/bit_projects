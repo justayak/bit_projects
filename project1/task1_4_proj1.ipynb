{
 "cells": [
  {
   "cell_type": "code",
   "execution_count": 2,
   "metadata": {},
   "outputs": [],
   "source": [
    "#!/usr/bin/env python 3\n",
    "#task 1.4: plotting the data without the outliers\n",
    "__author__ = \"Akhilesh Vyas\"\n",
    "__email__ = \"vyas.akhilesh009@hotmail.com\"\n",
    "\n",
    "import whExample\n",
    "import numpy as np\n",
    "import matplotlib.pyplot as plt\n",
    "import math"
   ]
  },
  {
   "cell_type": "code",
   "execution_count": 3,
   "metadata": {},
   "outputs": [
    {
     "data": {
      "image/png": "[encoded data removed]",
      "text/plain": [
       "<matplotlib.figure.Figure at 0x10bc21978>"
      ]
     },
     "metadata": {},
     "output_type": "display_data"
    }
   ],
   "source": [
    "def dist(x, y, p):\n",
    "    x = math.fabs(x)\n",
    "    y = math.fabs(y)\n",
    "    return math.pow (math.pow(x, p)+ math.pow(y, p), 1.0/p)\n",
    "\n",
    "def getPointList(xArr, yArr, p):\n",
    "    return [(x, y) for x in np.nditer(xArr) for y in np.nditer(yArr) if (0.99 < dist(x ,y, p)) \n",
    "            and (dist(x, y, p) < 1.0) ]\n",
    "    \n",
    "    \n",
    "xArr = np.arange(-1, 1, 0.0001)\n",
    "yArr = np.arange(-1, 1, 0.0001)\n",
    "\n",
    "pointArr1 = getPointList(xArr, yArr, 0.5)\n",
    "pointArr2 = getPointList(xArr, yArr, 1.0)\n",
    "pointArr3 = getPointList(xArr, yArr, 1.5)\n",
    "pointArr4 = getPointList(xArr, yArr, 2)\n",
    "\n",
    "\n",
    "plt.scatter(*zip(*pointArr1))\n",
    "plt.scatter(*zip(*pointArr2))\n",
    "plt.scatter(*zip(*pointArr3))\n",
    "plt.scatter(*zip(*pointArr4))\n",
    "plt.show()"
   ]
  },
  {
   "cell_type": "code",
   "execution_count": null,
   "metadata": {},
   "outputs": [],
   "source": []
  }
 ],
 "metadata": {
  "kernelspec": {
   "display_name": "Python 3",
   "language": "python",
   "name": "python3"
  },
  "language_info": {
   "codemirror_mode": {
    "name": "ipython",
    "version": 3
   },
   "file_extension": ".py",
   "mimetype": "text/x-python",
   "name": "python",
   "nbconvert_exporter": "python",
   "pygments_lexer": "ipython3",
   "version": "3.6.1"
  }
 },
 "nbformat": 4,
 "nbformat_minor": 2
}
