{
 "cells": [
  {
   "cell_type": "markdown",
   "metadata": {},
   "source": [
    "\n",
    "task 2.4: Boolean functions and the Boolean Fourier transform\n",
    "------------"
   ]
  },
  {
   "cell_type": "markdown",
   "metadata": {},
   "source": [
    "Import all necessary library"
   ]
  },
  {
   "cell_type": "code",
   "execution_count": 53,
   "metadata": {},
   "outputs": [],
   "source": [
    "import numpy as np\n",
    "import numpy.linalg as la\n",
    "import numpy.random as rnd\n",
    "import matplotlib.pyplot as plt\n",
    "import itertools as iter"
   ]
  },
  {
   "cell_type": "markdown",
   "metadata": {},
   "source": [
    "We initialise the traning samples"
   ]
  },
  {
   "cell_type": "code",
   "execution_count": 54,
   "metadata": {},
   "outputs": [],
   "source": [
    "def data_matrix():\n",
    "    # create design n X m input matrix (design matrix)\n",
    "    # where n is the number of data avalible, m is the number of feature +1\n",
    "    X = np.matrix([[1.0,  1.0,  1.0,  1.0],\n",
    "                   [1.0,  1.0,  1.0, -1.0],\n",
    "                   [1.0,  1.0, -1.0,  1.0],\n",
    "                   [1.0,  1.0, -1.0, -1.0],\n",
    "                   [1.0, -1.0,  1.0,  1.0],\n",
    "                   [1.0, -1.0,  1.0, -1.0],\n",
    "                   [1.0, -1.0, -1.0,  1.0],\n",
    "                   [1.0, -1.0, -1.0, -1.0]]) \n",
    "    \n",
    "    #create different output to the input matrix based on rules 110 and 126\n",
    "    y110 = np.matrix([[-1.0, 1.0, 1.0, 1.0, -1.0, 1.0, 1.0, -1.0]]).T\n",
    "    y126 = np.matrix([[-1.0, 1.0, 1.0, 1.0, 1.0, 1.0, 1.0, -1.0]]).T\n",
    "\n",
    "    return X, y110, y126"
   ]
  },
  {
   "cell_type": "markdown",
   "metadata": {},
   "source": [
    "To find the parameter $\\omega$ which minimise the square error\n",
    "\n",
    "$$E(\\omega)=||X\\omega - y||^2$$\n",
    "\n",
    "\n",
    "We can use least squares solution as follows:\n",
    "$$\\omega=(X^{T}-X)X^{T}y.$$\n",
    "\n",
    "\n",
    "Reference: Bauckhage, Christian. \"NumPy/SciPy Recipes for Data Science: Ordinary Least Squares Optimization.\" researchgate. net, Mar (2015)."
   ]
  },
  {
   "cell_type": "code",
   "execution_count": 55,
   "metadata": {},
   "outputs": [],
   "source": [
    "def lsq_solution(X, y):\n",
    "    w = np.dot(np.dot(la.inv(np.dot(X.T, X)), X.T), y)\n",
    "    return w"
   ]
  },
  {
   "cell_type": "markdown",
   "metadata": {},
   "source": [
    "Calculate the predicated output $\\hat{y}$ given the input data $X$ and the weight vector $\\omega$"
   ]
  },
  {
   "cell_type": "code",
   "execution_count": 56,
   "metadata": {},
   "outputs": [],
   "source": [
    "def prediction(X,w):\n",
    "    print '\\n***** predicted Y *****'\n",
    "    return w.T*X.T"
   ]
  },
  {
   "cell_type": "markdown",
   "metadata": {},
   "source": [
    "Get the Input vector $X$ and the output for rule 110 and 126"
   ]
  },
  {
   "cell_type": "code",
   "execution_count": 57,
   "metadata": {},
   "outputs": [],
   "source": [
    "X,y110,y126= data_matrix()"
   ]
  },
  {
   "cell_type": "markdown",
   "metadata": {},
   "source": [
    "Estimate the weights for rule 110"
   ]
  },
  {
   "cell_type": "code",
   "execution_count": 58,
   "metadata": {},
   "outputs": [
    {
     "name": "stdout",
     "output_type": "stream",
     "text": [
      "[[ 0.25]\n",
      " [ 0.25]\n",
      " [-0.25]\n",
      " [-0.25]]\n"
     ]
    }
   ],
   "source": [
    "w110= lsq_solution(X, y110)\n",
    "print w110"
   ]
  },
  {
   "cell_type": "markdown",
   "metadata": {},
   "source": [
    "Predicate rule 110 using the estimated weight vector w110"
   ]
  },
  {
   "cell_type": "code",
   "execution_count": 59,
   "metadata": {},
   "outputs": [
    {
     "name": "stdout",
     "output_type": "stream",
     "text": [
      "\n",
      "***** predicted Y *****\n",
      "[[ 0.   0.5  0.5  1.  -0.5  0.   0.   0.5]]\n"
     ]
    }
   ],
   "source": [
    "print prediction(X, w110)"
   ]
  },
  {
   "cell_type": "markdown",
   "metadata": {},
   "source": [
    "============\n",
    "\n",
    "Similarly for rule 126"
   ]
  },
  {
   "cell_type": "code",
   "execution_count": 60,
   "metadata": {},
   "outputs": [
    {
     "name": "stdout",
     "output_type": "stream",
     "text": [
      "[[ 0.5]\n",
      " [ 0. ]\n",
      " [ 0. ]\n",
      " [ 0. ]]\n"
     ]
    }
   ],
   "source": [
    "w126= lsq_solution(X, y126)\n",
    "print w126"
   ]
  },
  {
   "cell_type": "code",
   "execution_count": 61,
   "metadata": {},
   "outputs": [
    {
     "name": "stdout",
     "output_type": "stream",
     "text": [
      "\n",
      "***** predicted Y *****\n",
      "[[ 0.5  0.5  0.5  0.5  0.5  0.5  0.5  0.5]]\n"
     ]
    }
   ],
   "source": [
    "print prediction(X, w126)"
   ]
  },
  {
   "cell_type": "markdown",
   "metadata": {},
   "source": [
    "A polynomial solution\n",
    "------------\n",
    "We replacing the design matrix $X$ with a feature matrix matrix $\\Phi$"
   ]
  },
  {
   "cell_type": "markdown",
   "metadata": {},
   "source": [
    "Create xor to calculate the parity functions"
   ]
  },
  {
   "cell_type": "code",
   "execution_count": 62,
   "metadata": {},
   "outputs": [],
   "source": [
    "def xor(list):\n",
    "    \n",
    "    xor=int(list[0]) ^ int(list[1])\n",
    "    i=1\n",
    "    while i<len(list)-1:\n",
    "        xor=xor^int(list[i+1])\n",
    "        i+=1\n",
    "    return xor  "
   ]
  },
  {
   "cell_type": "markdown",
   "metadata": {},
   "source": [
    "Get power set from a list of elements"
   ]
  },
  {
   "cell_type": "code",
   "execution_count": 63,
   "metadata": {},
   "outputs": [],
   "source": [
    "def get_power_set(element_list):\n",
    "    \n",
    "    set=[]\n",
    "    for i in range(1,len(element_list)+1):\n",
    "        set+= list( iter.combinations(element_list, i) )\n",
    "        \n",
    "    return set   "
   ]
  },
  {
   "cell_type": "markdown",
   "metadata": {},
   "source": [
    "Create the parity function from the powerset"
   ]
  },
  {
   "cell_type": "code",
   "execution_count": 64,
   "metadata": {},
   "outputs": [],
   "source": [
    "def basis_parity_func(power_set):\n",
    "    \n",
    "    parity_output=[1]\n",
    "    for element in power_set:\n",
    "        E=[(e+1)/2 for e in element] \n",
    "        \n",
    "        if len(E)>1:\n",
    "            parity=xor(E)\n",
    "        else:\n",
    "            parity=int(E[0])\n",
    "        \n",
    "        \n",
    "        parity_output.append(parity)\n",
    "\n",
    "    return parity_output"
   ]
  },
  {
   "cell_type": "markdown",
   "metadata": {},
   "source": [
    "Get the feature matrix $\\Phi$ from the design matrix $X$"
   ]
  },
  {
   "cell_type": "code",
   "execution_count": 65,
   "metadata": {},
   "outputs": [],
   "source": [
    "def get_feature_matrix(X):\n",
    "    \n",
    "    X=np.delete(X,0,axis=1)\n",
    "    \n",
    "    n_row=X.shape[0]\n",
    "    \n",
    "    feature_materix=[]\n",
    "    for r in range(n_row):\n",
    "        X_row=X[r,].tolist()[0]\n",
    "        power_set = get_power_set(X_row)\n",
    "        parity_output= basis_parity_func(power_set)\n",
    "        feature_materix.append(parity_output)\n",
    "        \n",
    "    feature_materix = np.array(feature_materix)\n",
    "    \n",
    "    return feature_materix"
   ]
  },
  {
   "cell_type": "markdown",
   "metadata": {},
   "source": [
    "Get the feature matrix"
   ]
  },
  {
   "cell_type": "code",
   "execution_count": 68,
   "metadata": {},
   "outputs": [
    {
     "name": "stdout",
     "output_type": "stream",
     "text": [
      "[[1 1 1 1 0 0 0 1]\n",
      " [1 1 1 0 0 1 1 0]\n",
      " [1 1 0 1 1 0 1 0]\n",
      " [1 1 0 0 1 1 0 1]\n",
      " [1 0 1 1 1 1 0 0]\n",
      " [1 0 1 0 1 0 1 1]\n",
      " [1 0 0 1 0 1 1 1]\n",
      " [1 0 0 0 0 0 0 0]]\n"
     ]
    }
   ],
   "source": [
    "feature_matrix= get_feature_matrix(X)\n",
    "print feature_matrix"
   ]
  },
  {
   "cell_type": "markdown",
   "metadata": {},
   "source": [
    "Estimate the weights for rule 110 from the feature matrix $\\Phi$"
   ]
  },
  {
   "cell_type": "code",
   "execution_count": 74,
   "metadata": {},
   "outputs": [
    {
     "name": "stdout",
     "output_type": "stream",
     "text": [
      "[[-1. ]\n",
      " [ 0.5]\n",
      " [-0.5]\n",
      " [-0.5]\n",
      " [ 0.5]\n",
      " [ 0.5]\n",
      " [ 1.5]\n",
      " [ 0.5]]\n"
     ]
    }
   ],
   "source": [
    "w110= lsq_solution(feature_matrix, y110)\n",
    "print w110"
   ]
  },
  {
   "cell_type": "markdown",
   "metadata": {},
   "source": [
    "Predicate rule 110 using the estimated weight vector w110"
   ]
  },
  {
   "cell_type": "code",
   "execution_count": 75,
   "metadata": {},
   "outputs": [
    {
     "name": "stdout",
     "output_type": "stream",
     "text": [
      "\n",
      "***** predicted Y *****\n",
      "[[-1.  1.  1.  1. -1.  1.  1. -1.]]\n"
     ]
    }
   ],
   "source": [
    "print prediction(feature_matrix, w110)"
   ]
  },
  {
   "cell_type": "markdown",
   "metadata": {},
   "source": [
    "============\n",
    "\n",
    "Similarly for rule 126}\n"
   ]
  },
  {
   "cell_type": "code",
   "execution_count": 78,
   "metadata": {},
   "outputs": [
    {
     "name": "stdout",
     "output_type": "stream",
     "text": [
      "[[-1.]\n",
      " [ 0.]\n",
      " [ 0.]\n",
      " [ 0.]\n",
      " [ 1.]\n",
      " [ 1.]\n",
      " [ 1.]\n",
      " [ 0.]]\n"
     ]
    }
   ],
   "source": [
    "w126= lsq_solution(feature_matrix, y126)\n",
    "print w126"
   ]
  },
  {
   "cell_type": "code",
   "execution_count": 79,
   "metadata": {},
   "outputs": [
    {
     "name": "stdout",
     "output_type": "stream",
     "text": [
      "\n",
      "***** predicted Y *****\n",
      "[[-1.  1.  1.  1.  1.  1.  1. -1.]]\n"
     ]
    }
   ],
   "source": [
    "print prediction(feature_matrix, w126)"
   ]
  }
 ],
 "metadata": {
  "kernelspec": {
   "display_name": "Python 2",
   "language": "python",
   "name": "python2"
  },
  "language_info": {
   "codemirror_mode": {
    "name": "ipython",
    "version": 2
   },
   "file_extension": ".py",
   "mimetype": "text/x-python",
   "name": "python",
   "nbconvert_exporter": "python",
   "pygments_lexer": "ipython2",
   "version": "2.7.14"
  }
 },
 "nbformat": 4,
 "nbformat_minor": 2
}
