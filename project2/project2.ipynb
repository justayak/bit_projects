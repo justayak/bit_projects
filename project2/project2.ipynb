{
 "cells": [
  {
   "cell_type": "markdown",
   "metadata": {},
   "source": [
    "# Project 2\n",
    "## least squares regression and nearest neighbor classifiers\n",
    "\n",
    "### Members:\n",
    "* Akhilesh Vyas\n",
    "* Pooja Bhatia\n",
    "* Asif Altaf \n",
    "* Abakar Bouba\n",
    "* Mehdi Ali\n",
    "* Seyithan Dag\n",
    "* Mihail Luchian\n",
    "* Muhammad Hassan Farooq\n",
    "* Utkrist Adhikari\n",
    "* Julian Tanke"
   ]
  },
  {
   "cell_type": "markdown",
   "metadata": {},
   "source": [
    "### task 2.1 least squares regression for missing value prediction\n",
    "\n",
    "Least squares polynomial fit with loss $E(w) = \\big\\vert\\big\\vert Xw -y \\big\\vert\\big\\vert^2$:\n",
    "\n",
    "$$\n",
    "w = \\big( X^T X\\big)^{-1} X^T y\n",
    "$$\n",
    "\n",
    "$$\n",
    "X = \\begin{bmatrix}\n",
    "1 & x_1 & x_1^2 & \\cdots  & x_1^d \\\\ \n",
    " &  &  & \\vdots  & \\\\ \n",
    "1 & x_n & x_n^2 & \\cdots & x_n^d\n",
    "\\end{bmatrix}, \\ \\ \\ \\ y = \\begin{bmatrix}\n",
    "y_1 \\\\\n",
    "\\vdots \\\\ \n",
    "y_n\\\\ \n",
    "\\end{bmatrix}\n",
    "$$\n",
    "\n",
    "For this task fit models for $d\\in \\{ 1, 5, 10\\}$"
   ]
  },
  {
   "cell_type": "code",
   "execution_count": 193,
   "metadata": {},
   "outputs": [
    {
     "name": "stdout",
     "output_type": "stream",
     "text": [
      "(21, 5)\n",
      "[  7001.65463257 -24415.73449707  31898.38696289 -18502.96557617\n",
      "   4020.6633606 ]\n",
      "[ -96.81123269  166.9569358     2.97514561 -127.10299585   54.21156173]\n"
     ]
    },
    {
     "name": "stderr",
     "output_type": "stream",
     "text": [
      "/root/miniconda3/lib/python3.6/site-packages/ipykernel_launcher.py:49: RankWarning: Polyfit may be poorly conditioned\n"
     ]
    },
    {
     "data": {
      "image/png": "[encoded data removed]",
      "text/plain": [
       "<matplotlib.figure.Figure at 0x7f741538c710>"
      ]
     },
     "metadata": {},
     "output_type": "display_data"
    }
   ],
   "source": [
    "%matplotlib inline\n",
    "import numpy as np\n",
    "import scipy as sp\n",
    "import matplotlib.pyplot as plt\n",
    "from numpy.linalg import inv\n",
    "\n",
    "fig = plt.figure(figsize=(16,6))\n",
    "ax = fig.add_subplot(111)\n",
    "\n",
    "data = np.loadtxt('whData.dat',\n",
    "                  dtype=np.object,\n",
    "                  comments='#',\n",
    "                  delimiter=None)\n",
    "\n",
    "W = data[:,0].astype('float32')\n",
    "H = data[:,1].astype('float32')\n",
    "G = data[:,2]\n",
    "\n",
    "w_mask = ((W > 0) * 1).nonzero()\n",
    "\n",
    "W = W[w_mask]\n",
    "H = H[w_mask]\n",
    "G = G[w_mask]\n",
    "\n",
    "# to make the code more numerically stable we down-scale it by some large number\n",
    "# so that all values are between 0 and 1\n",
    "scale = 200\n",
    "W = W/scale\n",
    "H = H/scale\n",
    "\n",
    "# solve the solution \"zufuss\"\n",
    "# ------------ d = 1 ----------\n",
    "X = np.vander(H, 1+1)    # (21,2)\n",
    "y = np.array([W]).T    # (21,1)\n",
    "w = inv(X.T @ X) @ (X.T @ y)\n",
    "ax.plot([0, 500], [w[0] * 0 + w[1], w[0] * 500 + w[1]], \n",
    "         label='d = 1')\n",
    "#w = w * 200\n",
    "# ------------ d = 5 ----------\n",
    "X = np.vander(H, 4+1)\n",
    "print(X.shape)\n",
    "y = np.array([W]).T        # (21,1)\n",
    "\n",
    "w = inv(X.T @ X) @ (X.T @ y)\n",
    "\n",
    "print(np.squeeze(w))\n",
    "\n",
    "w = np.polyfit(x=H, y=W, deg=4)\n",
    "print(w)\n",
    "\n",
    "ax.scatter(H, W, color='black')\n",
    "ax.set_ylim([0.1, 0.7])\n",
    "ax.set_xlim([0.6, 1])\n",
    "ax.set_xlabel('Height')\n",
    "ax.set_ylabel('Weight')\n",
    "\n",
    "ax.set_xticklabels([int(x * scale) for x in ax.get_xticks()])\n",
    "ax.set_yticklabels([int(y * scale) for y in ax.get_yticks()])\n",
    "\n",
    "plt.legend()\n",
    "plt.show()"
   ]
  }
 ],
 "metadata": {
  "kernelspec": {
   "display_name": "Python 3",
   "language": "python",
   "name": "python3"
  },
  "language_info": {
   "codemirror_mode": {
    "name": "ipython",
    "version": 3
   },
   "file_extension": ".py",
   "mimetype": "text/x-python",
   "name": "python",
   "nbconvert_exporter": "python",
   "pygments_lexer": "ipython3",
   "version": "3.6.3"
  }
 },
 "nbformat": 4,
 "nbformat_minor": 2
}
